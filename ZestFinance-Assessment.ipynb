{
 "cells": [
  {
   "cell_type": "code",
   "execution_count": 280,
   "metadata": {
    "collapsed": true
   },
   "outputs": [],
   "source": [
    "import pandas as pd\n",
    "import numpy as np\n",
    "import datetime\n",
    "import seaborn as sns\n",
    "import matplotlib.pyplot as plt\n",
    "%matplotlib inline\n",
    "import pandas as pd\n",
    "import numpy as np\n",
    "import scipy.stats as stat\n",
    "import scipy.signal\n",
    "import math\n",
    "import warnings\n",
    "warnings.filterwarnings('ignore')\n",
    "import statsmodels.api as sm\n",
    "from sklearn.cluster import KMeans\n",
    "from sklearn.metrics import mean_absolute_error\n",
    "from sklearn.neural_network import MLPClassifier\n",
    "from sklearn.model_selection import train_test_split\n",
    "from sklearn.preprocessing import scale\n",
    "from sklearn.model_selection import GridSearchCV\n",
    "from scipy.stats import zscore\n",
    "from sklearn.metrics import f1_score"
   ]
  },
  {
   "cell_type": "markdown",
   "metadata": {},
   "source": [
    "## Read data"
   ]
  },
  {
   "cell_type": "code",
   "execution_count": 421,
   "metadata": {
    "collapsed": true
   },
   "outputs": [],
   "source": [
    "fileName = '/Users/chenbq/Documents/Find a job/Zest Finance/ZestData.xlsx'\n",
    "X_train = pd.read_excel(fileName, sheetname = 0)\n",
    "y_train = pd.read_excel(fileName, sheetname = 1)\n",
    "X_test = pd.read_excel(fileName, sheetname = 2)\n",
    "y_test = pd.read_excel(fileName, sheetname = 3)"
   ]
  },
  {
   "cell_type": "code",
   "execution_count": 160,
   "metadata": {},
   "outputs": [
    {
     "data": {
      "text/plain": [
       "Index(['customer_id', 'status', 'residence_rent_or_own', 'monthly_rent_amount',\n",
       "       'bank_account_direct_deposit', 'application_when', 'loan_duration',\n",
       "       'payment_ach', 'num_payments', 'address_zip', 'bank_routing_number',\n",
       "       'home_phone_type', 'monthly_income_amount', 'raw_l2c_score',\n",
       "       'raw_FICO_telecom', 'raw_FICO_retail', 'raw_FICO_bank_card',\n",
       "       'raw_FICO_money'],\n",
       "      dtype='object')"
      ]
     },
     "execution_count": 160,
     "metadata": {},
     "output_type": "execute_result"
    }
   ],
   "source": [
    "X_train.columns"
   ]
  },
  {
   "cell_type": "code",
   "execution_count": 405,
   "metadata": {
    "collapsed": true
   },
   "outputs": [],
   "source": [
    "categorical = ['status', 'residence_rent_or_own', 'bank_account_direct_deposit', 'payment_ach', 'home_phone_type']\n",
    "numerical = ['monthly_rent_amount', 'loan_duration', 'num_payments', 'monthly_income_amount', 'raw_l2c_score', \n",
    "             'raw_FICO_telecom', 'raw_FICO_retail', 'raw_FICO_bank_card', 'raw_FICO_money']"
   ]
  },
  {
   "cell_type": "code",
   "execution_count": 406,
   "metadata": {
    "collapsed": true
   },
   "outputs": [],
   "source": [
    "def preprocess(df, categorical, numerical):\n",
    "    df = df.set_index('customer_id')\n",
    "    \n",
    "    # Categorical Data\n",
    "    for cat in categorical:\n",
    "        tmp = pd.get_dummies(df[cat].astype('category'))\n",
    "        df = df.merge(tmp, left_index = True, right_index = True, how = 'left')\n",
    "\n",
    "    # Datetime \n",
    "    df['year'] =  [datetime.year for datetime in df['application_when']]\n",
    "    df['month'] =  [datetime.month for datetime in df['application_when']]\n",
    "    df['day'] =  [datetime.month for datetime in df['application_when']]\n",
    "    df['hour'] =  [datetime.month for datetime in df['application_when']]\n",
    "    \n",
    "    # Normalize all numerical data\n",
    "    numerical = numerical + ['year', 'month', 'day', 'hour']\n",
    "    df[numerical] = df[numerical].apply(zscore)\n",
    "    \n",
    "    # Drop columns that are no longer useful\n",
    "    categorical+=['address_zip', 'bank_routing_number']\n",
    "    df = df.drop(categorical, axis = 1)\n",
    "    \n",
    "    df = df.drop('application_when', axis = 1)\n",
    "    return df"
   ]
  },
  {
   "cell_type": "code",
   "execution_count": 422,
   "metadata": {
    "collapsed": true
   },
   "outputs": [],
   "source": [
    "X = X_train.append(X_test)\n",
    "X = preprocess(X, categorical, numerical)"
   ]
  },
  {
   "cell_type": "code",
   "execution_count": 423,
   "metadata": {
    "collapsed": true
   },
   "outputs": [],
   "source": [
    "X_train = X[:400]\n",
    "X_test = X[400:]"
   ]
  },
  {
   "cell_type": "code",
   "execution_count": 424,
   "metadata": {
    "collapsed": true
   },
   "outputs": [],
   "source": [
    "y_train = y_train.set_index('customer_id')\n",
    "y_train['value']=[1 if boolean else 0 for boolean in y_train['FullyFunded']] "
   ]
  },
  {
   "cell_type": "code",
   "execution_count": 409,
   "metadata": {},
   "outputs": [
    {
     "data": {
      "text/plain": [
       "23"
      ]
     },
     "execution_count": 409,
     "metadata": {},
     "output_type": "execute_result"
    }
   ],
   "source": [
    "len(X_train.columns)"
   ]
  },
  {
   "cell_type": "markdown",
   "metadata": {},
   "source": [
    "## Model: ANN regression"
   ]
  },
  {
   "cell_type": "code",
   "execution_count": 425,
   "metadata": {
    "collapsed": true
   },
   "outputs": [],
   "source": [
    "# Save a tmp version\n",
    "XX_train = X_train\n",
    "yy_train = y_train"
   ]
  },
  {
   "cell_type": "code",
   "execution_count": 450,
   "metadata": {},
   "outputs": [
    {
     "data": {
      "text/plain": [
       "400"
      ]
     },
     "execution_count": 450,
     "metadata": {},
     "output_type": "execute_result"
    }
   ],
   "source": [
    "X_train = XX_train\n",
    "y_train = yy_train\n",
    "len(X_train)"
   ]
  },
  {
   "cell_type": "code",
   "execution_count": 451,
   "metadata": {},
   "outputs": [
    {
     "name": "stdout",
     "output_type": "stream",
     "text": [
      "alpha= 0.001  Accuracy:  0.7416666666666667\n",
      "0.8287292817679558\n"
     ]
    }
   ],
   "source": [
    "# Train-Dev Split\n",
    "X_train, X_dev, y_train, y_dev = train_test_split(X_train, y_train, test_size=0.3)\n",
    "## Tuning parameter alpha\n",
    "alpha = [0.001]\n",
    "for i, a in enumerate(alpha): \n",
    "    model = MLPClassifier(hidden_layer_sizes=(25, 50, 10  ), activation='logistic', solver='lbfgs', alpha=a)\n",
    "    model.fit(X_train.values, y_train['value'].values)\n",
    "    print('alpha=', a, ' Accuracy: ', model.score(X_dev, y_dev['value']))\n",
    "    print(f1_score(model.predict(X_dev), y_dev['value']))"
   ]
  },
  {
   "cell_type": "code",
   "execution_count": 452,
   "metadata": {},
   "outputs": [
    {
     "data": {
      "text/plain": [
       "array([1, 0, 1, 1, 1, 1, 1, 1, 1, 1, 0, 0, 1, 1, 0, 1, 1, 0, 1, 0, 1, 1,\n",
       "       1, 1, 1, 1, 0, 1, 1, 0, 0, 1, 1, 1, 1, 1, 1, 0, 1, 1, 1, 0, 0, 1,\n",
       "       1, 1, 1, 1, 0, 1, 1, 1, 0, 1, 1, 1, 1, 1, 0, 1, 0, 1, 1, 0, 1, 1,\n",
       "       1, 1, 1, 1, 1, 1, 0, 1, 0, 1, 1, 1, 1, 1, 1, 0, 1, 1, 1, 1, 1, 1,\n",
       "       1, 1, 1, 1, 1, 0, 1, 0, 0, 0, 1, 1, 0, 1, 1, 0, 1, 1, 1, 1, 1, 1,\n",
       "       1, 1, 1, 0, 1, 1, 1, 1, 1, 1])"
      ]
     },
     "execution_count": 452,
     "metadata": {},
     "output_type": "execute_result"
    }
   ],
   "source": [
    "model.predict(X_dev)"
   ]
  },
  {
   "cell_type": "code",
   "execution_count": 453,
   "metadata": {},
   "outputs": [
    {
     "data": {
      "text/plain": [
       "array([0, 0, 1, 1, 1, 1, 1, 1, 0, 1, 0, 1, 1, 1, 0, 0, 1, 1, 1, 0, 1, 1,\n",
       "       1, 1, 1, 0, 0, 1, 1, 0, 1, 1, 1, 1, 1, 1, 1, 1, 1, 1, 0, 1, 1, 1,\n",
       "       1, 1, 1, 1, 1, 1, 1, 1, 0, 0, 1, 1, 0, 1, 1, 1, 0, 1, 1, 1, 1, 0,\n",
       "       0, 1, 1, 1, 1, 1, 1, 1, 1, 1, 0, 0, 1, 0, 1, 0, 1, 0, 1, 0, 1, 0,\n",
       "       1, 1, 1, 1, 0, 0, 1, 1, 0, 0, 1, 1, 0, 0, 1, 0, 1, 1, 1, 1, 1, 1,\n",
       "       1, 1, 1, 1, 1, 1, 1, 0, 1, 1])"
      ]
     },
     "execution_count": 453,
     "metadata": {},
     "output_type": "execute_result"
    }
   ],
   "source": [
    "y_dev['value'].values"
   ]
  },
  {
   "cell_type": "code",
   "execution_count": 454,
   "metadata": {
    "collapsed": true
   },
   "outputs": [],
   "source": [
    "prediction = model.predict(X_test)"
   ]
  },
  {
   "cell_type": "code",
   "execution_count": 457,
   "metadata": {
    "collapsed": true
   },
   "outputs": [],
   "source": [
    "with open('submission.csv', 'w') as f:\n",
    "    f.write(\"Id,Predicted\\n\")\n",
    "    for i,y in enumerate(prediction):\n",
    "        f.write(\"{},{}\\n\".format(i,bool(y)))"
   ]
  }
 ],
 "metadata": {
  "kernelspec": {
   "display_name": "Python 3",
   "language": "python",
   "name": "python3"
  },
  "language_info": {
   "codemirror_mode": {
    "name": "ipython",
    "version": 3
   },
   "file_extension": ".py",
   "mimetype": "text/x-python",
   "name": "python",
   "nbconvert_exporter": "python",
   "pygments_lexer": "ipython3",
   "version": "3.6.3"
  }
 },
 "nbformat": 4,
 "nbformat_minor": 2
}
